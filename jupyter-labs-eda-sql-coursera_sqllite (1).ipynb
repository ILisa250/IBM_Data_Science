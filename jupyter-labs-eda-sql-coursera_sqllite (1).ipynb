{
 "cells": [
  {
   "cell_type": "markdown",
   "metadata": {},
   "source": [
    "<p style=\"text-align:center\">\n",
    "    <a href=\"https://skills.network\" target=\"_blank\">\n",
    "    <img src=\"https://cf-courses-data.s3.us.cloud-object-storage.appdomain.cloud/assets/logos/SN_web_lightmode.png\" width=\"200\" alt=\"Skills Network Logo\">\n",
    "    </a>\n",
    "</p>\n",
    "\n",
    "<h1 align=center><font size = 5>Assignment: SQL Notebook for Peer Assignment</font></h1>\n",
    "\n",
    "Estimated time needed: **60** minutes.\n",
    "\n",
    "## Introduction\n",
    "Using this Python notebook you will:\n",
    "\n",
    "1.  Understand the Spacex DataSet\n",
    "2.  Load the dataset  into the corresponding table in a Db2 database\n",
    "3.  Execute SQL queries to answer assignment questions \n"
   ]
  },
  {
   "cell_type": "markdown",
   "metadata": {},
   "source": [
    "## Overview of the DataSet\n",
    "\n",
    "SpaceX has gained worldwide attention for a series of historic milestones. \n",
    "\n",
    "It is the only private company ever to return a spacecraft from low-earth orbit, which it first accomplished in December 2010.\n",
    "SpaceX advertises Falcon 9 rocket launches on its website with a cost of 62 million dollars wheras other providers cost upward of 165 million dollars each, much of the savings is because Space X can reuse the first stage. \n",
    "\n",
    "\n",
    "Therefore if we can determine if the first stage will land, we can determine the cost of a launch. \n",
    "\n",
    "This information can be used if an alternate company wants to bid against SpaceX for a rocket launch.\n",
    "\n",
    "This dataset includes a record for each payload carried during a SpaceX mission into outer space.\n"
   ]
  },
  {
   "cell_type": "markdown",
   "metadata": {},
   "source": [
    "### Download the datasets\n",
    "\n",
    "This assignment requires you to load the spacex dataset.\n",
    "\n",
    "In many cases the dataset to be analyzed is available as a .CSV (comma separated values) file, perhaps on the internet. Click on the link below to download and save the dataset (.CSV file):\n",
    "\n",
    " <a href=\"https://cf-courses-data.s3.us.cloud-object-storage.appdomain.cloud/IBM-DS0321EN-SkillsNetwork/labs/module_2/data/Spacex.csv\" target=\"_blank\">Spacex DataSet</a>\n",
    "\n"
   ]
  },
  {
   "cell_type": "code",
   "execution_count": 1,
   "metadata": {},
   "outputs": [
    {
     "name": "stdout",
     "output_type": "stream",
     "text": [
      "Collecting sqlalchemy==1.3.9\n",
      "  Downloading SQLAlchemy-1.3.9.tar.gz (6.0 MB)\n",
      "\u001b[2K     \u001b[90m━━━━━━━━━━━━━━━━━━━━━━━━━━━━━━━━━━━━━━━━\u001b[0m \u001b[32m6.0/6.0 MB\u001b[0m \u001b[31m152.4 MB/s\u001b[0m eta \u001b[36m0:00:00\u001b[0m\n",
      "  Preparing metadata (setup.py) ... \u001b[?25done\n",
      "\u001b[?25hBuilding wheels for collected packages: sqlalchemy\n",
      "  Building wheel for sqlalchemy (setup.py) ...done\n",
      "\u001b[?25h  Created wheel for sqlalchemy: filename=SQLAlchemy-1.3.9-cp312-cp312-linux_x86_64.whl size=1160111 sha256=9a292678e92b4ecbf8ccff417795a5bef8297f70e9b1724df8a7e6bce60e6707\n",
      "  Stored in directory: /home/jupyterlab/.cache/pip/wheels/b3/1c/42/0e26b8d512adc6bce10ff71a05229366b4ccec641cd3b42111\n",
      "Successfully built sqlalchemy\n",
      "Installing collected packages: sqlalchemy\n",
      "  Attempting uninstall: sqlalchemy\n",
      "    Found existing installation: SQLAlchemy 2.0.37\n",
      "    Uninstalling SQLAlchemy-2.0.37:\n",
      "      Successfully uninstalled SQLAlchemy-2.0.37\n",
      "\u001b[31mERROR: pip's dependency resolver does not currently take into account all the packages that are installed. This behaviour is the source of the following dependency conflicts.\n",
      "jupyterhub 5.2.1 requires SQLAlchemy>=1.4.1, but you have sqlalchemy 1.3.9 which is incompatible.\u001b[0m\u001b[31m\n",
      "\u001b[0mSuccessfully installed sqlalchemy-1.3.9\n"
     ]
    }
   ],
   "source": [
    "!pip install sqlalchemy==1.3.9\n"
   ]
  },
  {
   "cell_type": "markdown",
   "metadata": {},
   "source": [
    "### Connect to the database\n",
    "\n",
    "Let us first load the SQL extension and establish a connection with the database\n"
   ]
  },
  {
   "cell_type": "code",
   "execution_count": 2,
   "metadata": {},
   "outputs": [
    {
     "name": "stdout",
     "output_type": "stream",
     "text": [
      "Collecting ipython-sql\n",
      "  Downloading ipython_sql-0.5.0-py3-none-any.whl.metadata (17 kB)\n",
      "Collecting prettytable (from ipython-sql)\n",
      "  Downloading prettytable-3.16.0-py3-none-any.whl.metadata (33 kB)\n",
      "Requirement already satisfied: ipython in /opt/conda/lib/python3.12/site-packages (from ipython-sql) (8.31.0)\n",
      "Collecting sqlalchemy>=2.0 (from ipython-sql)\n",
      "  Downloading sqlalchemy-2.0.40-cp312-cp312-manylinux_2_17_x86_64.manylinux2014_x86_64.whl.metadata (9.6 kB)\n",
      "Collecting sqlparse (from ipython-sql)\n",
      "  Downloading sqlparse-0.5.3-py3-none-any.whl.metadata (3.9 kB)\n",
      "Requirement already satisfied: six in /opt/conda/lib/python3.12/site-packages (from ipython-sql) (1.17.0)\n",
      "Requirement already satisfied: ipython-genutils in /opt/conda/lib/python3.12/site-packages (from ipython-sql) (0.2.0)\n",
      "Requirement already satisfied: greenlet>=1 in /opt/conda/lib/python3.12/site-packages (from sqlalchemy>=2.0->ipython-sql) (3.1.1)\n",
      "Requirement already satisfied: typing-extensions>=4.6.0 in /opt/conda/lib/python3.12/site-packages (from sqlalchemy>=2.0->ipython-sql) (4.12.2)\n",
      "Requirement already satisfied: decorator in /opt/conda/lib/python3.12/site-packages (from ipython->ipython-sql) (5.1.1)\n",
      "Requirement already satisfied: jedi>=0.16 in /opt/conda/lib/python3.12/site-packages (from ipython->ipython-sql) (0.19.2)\n",
      "Requirement already satisfied: matplotlib-inline in /opt/conda/lib/python3.12/site-packages (from ipython->ipython-sql) (0.1.7)\n",
      "Requirement already satisfied: pexpect>4.3 in /opt/conda/lib/python3.12/site-packages (from ipython->ipython-sql) (4.9.0)\n",
      "Requirement already satisfied: prompt_toolkit<3.1.0,>=3.0.41 in /opt/conda/lib/python3.12/site-packages (from ipython->ipython-sql) (3.0.50)\n",
      "Requirement already satisfied: pygments>=2.4.0 in /opt/conda/lib/python3.12/site-packages (from ipython->ipython-sql) (2.19.1)\n",
      "Requirement already satisfied: stack_data in /opt/conda/lib/python3.12/site-packages (from ipython->ipython-sql) (0.6.3)\n",
      "Requirement already satisfied: traitlets>=5.13.0 in /opt/conda/lib/python3.12/site-packages (from ipython->ipython-sql) (5.14.3)\n",
      "Requirement already satisfied: wcwidth in /opt/conda/lib/python3.12/site-packages (from prettytable->ipython-sql) (0.2.13)\n",
      "Requirement already satisfied: parso<0.9.0,>=0.8.4 in /opt/conda/lib/python3.12/site-packages (from jedi>=0.16->ipython->ipython-sql) (0.8.4)\n",
      "Requirement already satisfied: ptyprocess>=0.5 in /opt/conda/lib/python3.12/site-packages (from pexpect>4.3->ipython->ipython-sql) (0.7.0)\n",
      "Requirement already satisfied: executing>=1.2.0 in /opt/conda/lib/python3.12/site-packages (from stack_data->ipython->ipython-sql) (2.1.0)\n",
      "Requirement already satisfied: asttokens>=2.1.0 in /opt/conda/lib/python3.12/site-packages (from stack_data->ipython->ipython-sql) (3.0.0)\n",
      "Requirement already satisfied: pure_eval in /opt/conda/lib/python3.12/site-packages (from stack_data->ipython->ipython-sql) (0.2.3)\n",
      "Downloading ipython_sql-0.5.0-py3-none-any.whl (20 kB)\n",
      "Downloading sqlalchemy-2.0.40-cp312-cp312-manylinux_2_17_x86_64.manylinux2014_x86_64.whl (3.3 MB)\n",
      "\u001b[2K   \u001b[90m━━━━━━━━━━━━━━━━━━━━━━━━━━━━━━━━━━━━━━━━\u001b[0m \u001b[32m3.3/3.3 MB\u001b[0m \u001b[31m127.0 MB/s\u001b[0m eta \u001b[36m0:00:00\u001b[0m\n",
      "\u001b[?25hDownloading prettytable-3.16.0-py3-none-any.whl (33 kB)\n",
      "Downloading sqlparse-0.5.3-py3-none-any.whl (44 kB)\n",
      "Installing collected packages: sqlparse, sqlalchemy, prettytable, ipython-sql\n",
      "  Attempting uninstall: sqlalchemy\n",
      "    Found existing installation: SQLAlchemy 1.3.9\n",
      "    Uninstalling SQLAlchemy-1.3.9:\n",
      "      Successfully uninstalled SQLAlchemy-1.3.9\n",
      "Successfully installed ipython-sql-0.5.0 prettytable-3.16.0 sqlalchemy-2.0.40 sqlparse-0.5.3\n",
      "Requirement already satisfied: ipython-sql in /opt/conda/lib/python3.12/site-packages (0.5.0)\n",
      "Requirement already satisfied: prettytable in /opt/conda/lib/python3.12/site-packages (3.16.0)\n",
      "Requirement already satisfied: ipython in /opt/conda/lib/python3.12/site-packages (from ipython-sql) (8.31.0)\n",
      "Requirement already satisfied: sqlalchemy>=2.0 in /opt/conda/lib/python3.12/site-packages (from ipython-sql) (2.0.40)\n",
      "Requirement already satisfied: sqlparse in /opt/conda/lib/python3.12/site-packages (from ipython-sql) (0.5.3)\n",
      "Requirement already satisfied: six in /opt/conda/lib/python3.12/site-packages (from ipython-sql) (1.17.0)\n",
      "Requirement already satisfied: ipython-genutils in /opt/conda/lib/python3.12/site-packages (from ipython-sql) (0.2.0)\n",
      "Requirement already satisfied: wcwidth in /opt/conda/lib/python3.12/site-packages (from prettytable) (0.2.13)\n",
      "Requirement already satisfied: greenlet>=1 in /opt/conda/lib/python3.12/site-packages (from sqlalchemy>=2.0->ipython-sql) (3.1.1)\n",
      "Requirement already satisfied: typing-extensions>=4.6.0 in /opt/conda/lib/python3.12/site-packages (from sqlalchemy>=2.0->ipython-sql) (4.12.2)\n",
      "Requirement already satisfied: decorator in /opt/conda/lib/python3.12/site-packages (from ipython->ipython-sql) (5.1.1)\n",
      "Requirement already satisfied: jedi>=0.16 in /opt/conda/lib/python3.12/site-packages (from ipython->ipython-sql) (0.19.2)\n",
      "Requirement already satisfied: matplotlib-inline in /opt/conda/lib/python3.12/site-packages (from ipython->ipython-sql) (0.1.7)\n",
      "Requirement already satisfied: pexpect>4.3 in /opt/conda/lib/python3.12/site-packages (from ipython->ipython-sql) (4.9.0)\n",
      "Requirement already satisfied: prompt_toolkit<3.1.0,>=3.0.41 in /opt/conda/lib/python3.12/site-packages (from ipython->ipython-sql) (3.0.50)\n",
      "Requirement already satisfied: pygments>=2.4.0 in /opt/conda/lib/python3.12/site-packages (from ipython->ipython-sql) (2.19.1)\n",
      "Requirement already satisfied: stack_data in /opt/conda/lib/python3.12/site-packages (from ipython->ipython-sql) (0.6.3)\n",
      "Requirement already satisfied: traitlets>=5.13.0 in /opt/conda/lib/python3.12/site-packages (from ipython->ipython-sql) (5.14.3)\n",
      "Requirement already satisfied: parso<0.9.0,>=0.8.4 in /opt/conda/lib/python3.12/site-packages (from jedi>=0.16->ipython->ipython-sql) (0.8.4)\n",
      "Requirement already satisfied: ptyprocess>=0.5 in /opt/conda/lib/python3.12/site-packages (from pexpect>4.3->ipython->ipython-sql) (0.7.0)\n",
      "Requirement already satisfied: executing>=1.2.0 in /opt/conda/lib/python3.12/site-packages (from stack_data->ipython->ipython-sql) (2.1.0)\n",
      "Requirement already satisfied: asttokens>=2.1.0 in /opt/conda/lib/python3.12/site-packages (from stack_data->ipython->ipython-sql) (3.0.0)\n",
      "Requirement already satisfied: pure_eval in /opt/conda/lib/python3.12/site-packages (from stack_data->ipython->ipython-sql) (0.2.3)\n"
     ]
    }
   ],
   "source": [
    "!pip install ipython-sql\n",
    "!pip install ipython-sql prettytable"
   ]
  },
  {
   "cell_type": "code",
   "execution_count": 3,
   "metadata": {},
   "outputs": [],
   "source": [
    "%load_ext sql"
   ]
  },
  {
   "cell_type": "code",
   "execution_count": 4,
   "metadata": {},
   "outputs": [],
   "source": [
    "import csv, sqlite3\n",
    "import prettytable\n",
    "prettytable.DEFAULT = 'DEFAULT'\n",
    "\n",
    "con = sqlite3.connect(\"my_data1.db\")\n",
    "cur = con.cursor()"
   ]
  },
  {
   "cell_type": "code",
   "execution_count": 5,
   "metadata": {},
   "outputs": [],
   "source": [
    "!pip install -q pandas"
   ]
  },
  {
   "cell_type": "code",
   "execution_count": 6,
   "metadata": {},
   "outputs": [],
   "source": [
    "%sql sqlite:///my_data1.db"
   ]
  },
  {
   "cell_type": "code",
   "execution_count": 7,
   "metadata": {},
   "outputs": [
    {
     "data": {
      "text/plain": [
       "101"
      ]
     },
     "execution_count": 7,
     "metadata": {},
     "output_type": "execute_result"
    }
   ],
   "source": [
    "import pandas as pd\n",
    "df = pd.read_csv(\"https://cf-courses-data.s3.us.cloud-object-storage.appdomain.cloud/IBM-DS0321EN-SkillsNetwork/labs/module_2/data/Spacex.csv\")\n",
    "df.to_sql(\"SPACEXTBL\", con, if_exists='replace', index=False,method=\"multi\")"
   ]
  },
  {
   "cell_type": "markdown",
   "metadata": {},
   "source": [
    "**Note:This below code is added to remove blank rows from table**\n"
   ]
  },
  {
   "cell_type": "code",
   "execution_count": 8,
   "metadata": {},
   "outputs": [
    {
     "name": "stdout",
     "output_type": "stream",
     "text": [
      " * sqlite:///my_data1.db\n",
      "Done.\n"
     ]
    },
    {
     "data": {
      "text/plain": [
       "[]"
      ]
     },
     "execution_count": 8,
     "metadata": {},
     "output_type": "execute_result"
    }
   ],
   "source": [
    "#DROP THE TABLE IF EXISTS\n",
    "\n",
    "%sql DROP TABLE IF EXISTS SPACEXTABLE;"
   ]
  },
  {
   "cell_type": "code",
   "execution_count": 9,
   "metadata": {},
   "outputs": [
    {
     "name": "stdout",
     "output_type": "stream",
     "text": [
      " * sqlite:///my_data1.db\n",
      "Done.\n"
     ]
    },
    {
     "data": {
      "text/plain": [
       "[]"
      ]
     },
     "execution_count": 9,
     "metadata": {},
     "output_type": "execute_result"
    }
   ],
   "source": [
    "%sql create table SPACEXTABLE as select * from SPACEXTBL where Date is not null"
   ]
  },
  {
   "cell_type": "markdown",
   "metadata": {},
   "source": [
    "## Tasks\n",
    "\n",
    "Now write and execute SQL queries to solve the assignment tasks.\n",
    "\n",
    "**Note: If the column names are in mixed case enclose it in double quotes\n",
    "   For Example \"Landing_Outcome\"**\n",
    "\n",
    "### Task 1\n",
    "\n",
    "\n",
    "\n",
    "\n",
    "##### Display the names of the unique launch sites  in the space mission\n"
   ]
  },
  {
   "cell_type": "code",
   "execution_count": 12,
   "metadata": {},
   "outputs": [
    {
     "name": "stdout",
     "output_type": "stream",
     "text": [
      "('CCAFS LC-40',)\n",
      "('VAFB SLC-4E',)\n",
      "('KSC LC-39A',)\n",
      "('CCAFS SLC-40',)\n"
     ]
    }
   ],
   "source": [
    "import sqlite3\n",
    "\n",
    "# Connect to your SQLite database\n",
    "conn = sqlite3.connect('my_data1.db')  # Change this if you're using a different database system\n",
    "cursor = conn.cursor()\n",
    "\n",
    "# Run the SQL query to get unique launch sites\n",
    "cursor.execute('SELECT DISTINCT \"Launch_Site\" FROM SPACEXTABLE')\n",
    "\n",
    "# Fetch and print the results\n",
    "launch_sites = cursor.fetchall()\n",
    "for site in launch_sites:\n",
    "    print(site)\n",
    "\n",
    "# Close the connection\n",
    "conn.close()\n"
   ]
  },
  {
   "cell_type": "markdown",
   "metadata": {},
   "source": [
    "\n",
    "### Task 2\n",
    "\n",
    "\n",
    "#####  Display 5 records where launch sites begin with the string 'CCA' \n"
   ]
  },
  {
   "cell_type": "code",
   "execution_count": 14,
   "metadata": {},
   "outputs": [
    {
     "name": "stdout",
     "output_type": "stream",
     "text": [
      "('2010-06-04', '18:45:00', 'F9 v1.0  B0003', 'CCAFS LC-40', 'Dragon Spacecraft Qualification Unit', 0, 'LEO', 'SpaceX', 'Success', 'Failure (parachute)')\n",
      "('2010-12-08', '15:43:00', 'F9 v1.0  B0004', 'CCAFS LC-40', 'Dragon demo flight C1, two CubeSats, barrel of Brouere cheese', 0, 'LEO (ISS)', 'NASA (COTS) NRO', 'Success', 'Failure (parachute)')\n",
      "('2012-05-22', '7:44:00', 'F9 v1.0  B0005', 'CCAFS LC-40', 'Dragon demo flight C2', 525, 'LEO (ISS)', 'NASA (COTS)', 'Success', 'No attempt')\n",
      "('2012-10-08', '0:35:00', 'F9 v1.0  B0006', 'CCAFS LC-40', 'SpaceX CRS-1', 500, 'LEO (ISS)', 'NASA (CRS)', 'Success', 'No attempt')\n",
      "('2013-03-01', '15:10:00', 'F9 v1.0  B0007', 'CCAFS LC-40', 'SpaceX CRS-2', 677, 'LEO (ISS)', 'NASA (CRS)', 'Success', 'No attempt')\n"
     ]
    }
   ],
   "source": [
    "import sqlite3\n",
    "\n",
    "# Connect to your SQLite database (ensure the path to your database is correct)\n",
    "conn = sqlite3.connect('my_data1.db')  # Replace with your actual database file\n",
    "cursor = conn.cursor()\n",
    "\n",
    "# Execute the SQL query to get 5 records where launch sites start with 'CCA'\n",
    "cursor.execute('''\n",
    "SELECT *\n",
    "FROM SPACEXTABLE\n",
    "WHERE \"Launch_Site\" LIKE 'CCA%'\n",
    "LIMIT 5;\n",
    "''')\n",
    "\n",
    "# Fetch and display the results\n",
    "records = cursor.fetchall()\n",
    "for record in records:\n",
    "    print(record)\n",
    "\n",
    "# Close the connection\n",
    "conn.close()\n"
   ]
  },
  {
   "cell_type": "markdown",
   "metadata": {},
   "source": [
    "### Task 3\n",
    "\n",
    "\n",
    "\n",
    "\n",
    "##### Display the total payload mass carried by boosters launched by NASA (CRS)\n"
   ]
  },
  {
   "cell_type": "code",
   "execution_count": 16,
   "metadata": {},
   "outputs": [
    {
     "name": "stdout",
     "output_type": "stream",
     "text": [
      "Total Payload Mass carried by boosters launched by NASA (CRS): None kg\n"
     ]
    }
   ],
   "source": [
    "import sqlite3\n",
    "\n",
    "# Connect to your SQLite database (make sure to replace the path if needed)\n",
    "conn = sqlite3.connect('my_data1.db')  # Replace with your actual database file\n",
    "cursor = conn.cursor()\n",
    "\n",
    "# Execute the SQL query to calculate the total payload mass for NASA (CRS)\n",
    "cursor.execute('''\n",
    "SELECT SUM(\"Payload_Mass_(kg)\") AS total_payload_mass\n",
    "FROM SPACEXTABLE\n",
    "WHERE \"Launch_Provider\" = 'NASA (CRS)';\n",
    "''')\n",
    "\n",
    "# Fetch the result\n",
    "total_payload_mass = cursor.fetchone()[0]\n",
    "\n",
    "# Display the total payload mass\n",
    "print(f\"Total Payload Mass carried by boosters launched by NASA (CRS): {total_payload_mass} kg\")\n",
    "\n",
    "# Close the connection\n",
    "conn.close()\n"
   ]
  },
  {
   "cell_type": "markdown",
   "metadata": {},
   "source": [
    "### Task 4\n",
    "\n",
    "\n",
    "\n",
    "\n",
    "##### Display average payload mass carried by booster version F9 v1.1\n"
   ]
  },
  {
   "cell_type": "code",
   "execution_count": 18,
   "metadata": {},
   "outputs": [
    {
     "name": "stdout",
     "output_type": "stream",
     "text": [
      "Average Payload Mass carried by booster version F9 v1.1: 0.0 kg\n"
     ]
    }
   ],
   "source": [
    "import sqlite3\n",
    "\n",
    "# Connect to your SQLite database\n",
    "conn = sqlite3.connect('my_data1.db')  # Replace with your actual database file\n",
    "cursor = conn.cursor()\n",
    "\n",
    "# Execute the SQL query to calculate the average payload mass for booster version F9 v1.1\n",
    "cursor.execute('''\n",
    "SELECT AVG(\"Payload_Mass_(kg)\") AS average_payload_mass\n",
    "FROM SPACEXTABLE\n",
    "WHERE \"Booster_Version\" = 'F9 v1.1';\n",
    "''')\n",
    "\n",
    "# Fetch the result\n",
    "average_payload_mass = cursor.fetchone()[0]\n",
    "\n",
    "# Display the average payload mass\n",
    "print(f\"Average Payload Mass carried by booster version F9 v1.1: {average_payload_mass} kg\")\n",
    "\n",
    "# Close the connection\n",
    "conn.close()\n"
   ]
  },
  {
   "cell_type": "markdown",
   "metadata": {},
   "source": [
    "### Task 5\n",
    "\n",
    "##### List the date when the first succesful landing outcome in ground pad was acheived.\n",
    "\n",
    "\n",
    "_Hint:Use min function_ \n"
   ]
  },
  {
   "cell_type": "code",
   "execution_count": 19,
   "metadata": {},
   "outputs": [
    {
     "name": "stdout",
     "output_type": "stream",
     "text": [
      "First successful landing date on ground pad: 2015-12-22\n"
     ]
    }
   ],
   "source": [
    "import sqlite3\n",
    "\n",
    "# Connect to your SQLite database\n",
    "conn = sqlite3.connect('my_data1.db')  # Replace with your actual database file\n",
    "cursor = conn.cursor()\n",
    "\n",
    "# Execute the SQL query to find the first successful landing date on a ground pad\n",
    "cursor.execute('''\n",
    "SELECT MIN(\"Date\") AS first_successful_landing_date\n",
    "FROM SPACEXTABLE\n",
    "WHERE \"Landing_Outcome\" = 'Success (ground pad)';\n",
    "''')\n",
    "\n",
    "# Fetch the result\n",
    "first_successful_landing_date = cursor.fetchone()[0]\n",
    "\n",
    "# Display the result\n",
    "print(f\"First successful landing date on ground pad: {first_successful_landing_date}\")\n",
    "\n",
    "# Close the connection\n",
    "conn.close()\n"
   ]
  },
  {
   "cell_type": "markdown",
   "metadata": {},
   "source": [
    "### Task 6\n",
    "\n",
    "##### List the names of the boosters which have success in drone ship and have payload mass greater than 4000 but less than 6000\n"
   ]
  },
  {
   "cell_type": "code",
   "execution_count": 23,
   "metadata": {},
   "outputs": [
    {
     "name": "stdout",
     "output_type": "stream",
     "text": [
      "Total rows in SPACEXTABLE: 101\n",
      "No boosters found with success on drone ship and payload mass between 4000 and 6000.\n"
     ]
    }
   ],
   "source": [
    "import sqlite3\n",
    "\n",
    "# Connect to your SQLite database\n",
    "conn = sqlite3.connect('my_data1.db')  # Ensure this points to your actual SQLite database file\n",
    "cursor = conn.cursor()\n",
    "\n",
    "# Check the number of rows in SPACEXTABLE to ensure the table is not empty\n",
    "cursor.execute(\"SELECT COUNT(*) FROM SPACEXTABLE\")\n",
    "row_count = cursor.fetchone()[0]\n",
    "print(f\"Total rows in SPACEXTABLE: {row_count}\")\n",
    "\n",
    "# If rows are found, proceed with the query\n",
    "if row_count > 0:\n",
    "    # Execute the SQL query to find booster versions with success on drone ship and payload mass between 4000 and 6000\n",
    "    cursor.execute('''\n",
    "    SELECT DISTINCT \"Booster_Version\"\n",
    "    FROM SPACEXTABLE\n",
    "    WHERE \"Landing_Outcome\" = 'Success (drone ship)'\n",
    "      AND \"Payload_Mass_(kg)\" > 4000\n",
    "      AND \"Payload_Mass_(kg)\" < 6000;\n",
    "    ''')\n",
    "\n",
    "    # Fetch the results\n",
    "    boosters = cursor.fetchall()\n",
    "\n",
    "    # Check if boosters were found and display the results\n",
    "    if boosters:\n",
    "        print(\"Boosters with success on drone ship and payload mass between 4000 and 6000:\")\n",
    "        for booster in boosters:\n",
    "            print(booster[0])  # Print the booster version\n",
    "    else:\n",
    "        print(\"No boosters found with success on drone ship and payload mass between 4000 and 6000.\")\n",
    "else:\n",
    "    print(\"The table SPACEXTABLE is empty.\")\n",
    "\n",
    "# Close the connection\n",
    "conn.close()\n"
   ]
  },
  {
   "cell_type": "markdown",
   "metadata": {},
   "source": [
    "### Task 7\n",
    "\n",
    "\n",
    "\n",
    "\n",
    "##### List the total number of successful and failure mission outcomes\n"
   ]
  },
  {
   "cell_type": "code",
   "execution_count": 24,
   "metadata": {},
   "outputs": [
    {
     "name": "stdout",
     "output_type": "stream",
     "text": [
      "Total number of missions by outcome:\n",
      "Controlled (ocean): 5 missions\n",
      "Failure: 3 missions\n",
      "Failure (drone ship): 5 missions\n",
      "Failure (parachute): 2 missions\n",
      "No attempt: 21 missions\n",
      "No attempt : 1 missions\n",
      "Precluded (drone ship): 1 missions\n",
      "Success: 38 missions\n",
      "Success (drone ship): 14 missions\n",
      "Success (ground pad): 9 missions\n",
      "Uncontrolled (ocean): 2 missions\n"
     ]
    }
   ],
   "source": [
    "import sqlite3\n",
    "\n",
    "# Connect to your SQLite database\n",
    "conn = sqlite3.connect('my_data1.db')  # Ensure this points to your actual database file\n",
    "cursor = conn.cursor()\n",
    "\n",
    "# Execute the SQL query to count successful and failure mission outcomes\n",
    "cursor.execute('''\n",
    "SELECT \"Landing_Outcome\", COUNT(*) AS total_missions\n",
    "FROM SPACEXTABLE\n",
    "GROUP BY \"Landing_Outcome\";\n",
    "''')\n",
    "\n",
    "# Fetch the results\n",
    "outcomes = cursor.fetchall()\n",
    "\n",
    "# Display the total number of successful and failure mission outcomes\n",
    "print(\"Total number of missions by outcome:\")\n",
    "for outcome in outcomes:\n",
    "    print(f\"{outcome[0]}: {outcome[1]} missions\")\n",
    "\n",
    "# Close the connection\n",
    "conn.close()\n"
   ]
  },
  {
   "cell_type": "markdown",
   "metadata": {},
   "source": [
    "### Task 8\n",
    "\n",
    "\n",
    "\n",
    "##### List all the booster_versions that have carried the maximum payload mass. Use a subquery.\n"
   ]
  },
  {
   "cell_type": "code",
   "execution_count": 25,
   "metadata": {},
   "outputs": [
    {
     "name": "stdout",
     "output_type": "stream",
     "text": [
      "Booster versions with the maximum payload mass:\n",
      "F9 v1.0  B0003\n",
      "F9 v1.0  B0004\n",
      "F9 v1.0  B0005\n",
      "F9 v1.0  B0006\n",
      "F9 v1.0  B0007\n",
      "F9 v1.1  B1003\n",
      "F9 v1.1\n",
      "F9 v1.1\n",
      "F9 v1.1\n",
      "F9 v1.1\n",
      "F9 v1.1\n",
      "F9 v1.1 B1011\n",
      "F9 v1.1 B1010\n",
      "F9 v1.1 B1012\n",
      "F9 v1.1 B1013\n",
      "F9 v1.1 B1014\n",
      "F9 v1.1 B1015\n",
      "F9 v1.1 B1016\n",
      "F9 v1.1 B1018\n",
      "F9 FT B1019\n",
      "F9 v1.1 B1017\n",
      "F9 FT B1020\n",
      "F9 FT B1021.1\n",
      "F9 FT B1022\n",
      "F9 FT B1023.1\n",
      "F9 FT B1024\n",
      "F9 FT B1025.1\n",
      "F9 FT B1026\n",
      "F9 FT B1029.1\n",
      "F9 FT B1031.1\n",
      "F9 FT B1030\n",
      "F9 FT  B1021.2\n",
      "F9 FT B1032.1\n",
      "F9 FT B1034\n",
      "F9 FT B1035.1\n",
      "F9 FT  B1029.2\n",
      "F9 FT B1036.1\n",
      "F9 FT B1037\n",
      "F9 B4 B1039.1\n",
      "F9 FT B1038.1\n",
      "F9 B4 B1040.1\n",
      "F9 B4 B1041.1\n",
      "F9 FT  B1031.2\n",
      "F9 B4 B1042.1\n",
      "F9 FT  B1035.2\n",
      "F9 FT  B1036.2\n",
      "F9 B4 B1043.1\n",
      "F9 FT  B1032.2\n",
      "F9 FT  B1038.2\n",
      "F9 B4 B1044\n",
      "F9 B4  B1041.2\n",
      "F9 B4  B1039.2\n",
      "F9 B4 B1045.1\n",
      "F9 B5  B1046.1\n",
      "F9 B4  B1043.2\n",
      "F9 B4  B1040.2\n",
      "F9 B4 B1045.2\n",
      "F9 B5B1047.1\n",
      "F9 B5B1048.1\n",
      "F9 B5 B1046.2\n",
      "F9 B5B1049.1\n",
      "F9 B5 B1048.2\n",
      "F9 B5 B1047.2\n",
      "F9 B5 B1046.3\n",
      "F9 B5B1050\n",
      "F9 B5B1054\n",
      "F9 B5 B1049.2\n",
      "F9 B5 B1048.3\n",
      "F9 B5B1051.1\n",
      "F9 B5B1056.1 \n",
      "F9 B5 B1049.3\n",
      "F9 B5 B1051.2 \n",
      "F9 B5 B1056.2 \n",
      "F9 B5 B1047.3 \n",
      "F9 B5 B1048.4\n",
      "F9 B5B1059.1\n",
      "F9 B5 B1056.3 \n",
      "F9 B5 B1049.4\n",
      "F9 B5 B1046.4\n",
      "F9 B5 B1051.3\n",
      "F9 B5 B1056.4\n",
      "F9 B5 B1059.2\n",
      "F9 B5 B1048.5\n",
      "F9 B5 B1051.4\n",
      "F9 B5B1058.1 \n",
      "F9 B5 B1049.5\n",
      "F9 B5 B1059.3\n",
      "F9 B5B1060.1\n",
      "F9 B5 B1058.2 \n",
      "F9 B5 B1051.5\n",
      "F9 B5 B1049.6\n",
      "F9 B5 B1059.4\n",
      "F9 B5 B1060.2 \n",
      "F9 B5 B1058.3 \n",
      "F9 B5 B1051.6\n",
      "F9 B5 B1060.3\n",
      "F9 B5B1062.1\n",
      "F9 B5B1061.1 \n",
      "F9 B5B1063.1\n",
      "F9 B5 B1049.7 \n",
      "F9 B5 B1058.4 \n"
     ]
    }
   ],
   "source": [
    "import sqlite3\n",
    "\n",
    "# Connect to your SQLite database\n",
    "conn = sqlite3.connect('my_data1.db')  # Ensure this points to your actual database file\n",
    "cursor = conn.cursor()\n",
    "\n",
    "# Execute the SQL query to list booster versions with the maximum payload mass\n",
    "cursor.execute('''\n",
    "SELECT \"Booster_Version\"\n",
    "FROM SPACEXTABLE\n",
    "WHERE \"Payload_Mass_(kg)\" = (\n",
    "    SELECT MAX(\"Payload_Mass_(kg)\")\n",
    "    FROM SPACEXTABLE\n",
    ");\n",
    "''')\n",
    "\n",
    "# Fetch the results\n",
    "boosters_with_max_payload = cursor.fetchall()\n",
    "\n",
    "# Display the booster versions\n",
    "print(\"Booster versions with the maximum payload mass:\")\n",
    "for booster in boosters_with_max_payload:\n",
    "    print(booster[0])  # Print the booster version\n",
    "\n",
    "# Close the connection\n",
    "conn.close()\n"
   ]
  },
  {
   "cell_type": "markdown",
   "metadata": {},
   "source": [
    "### Task 9\n",
    "\n",
    "\n",
    "##### List the records which will display the month names, failure landing_outcomes in drone ship ,booster versions, launch_site for the months in year 2015.\n",
    "\n",
    "**Note: SQLLite does not support monthnames. So you need to use  substr(Date, 6,2) as month to get the months and substr(Date,0,5)='2015' for year.**\n"
   ]
  },
  {
   "cell_type": "code",
   "execution_count": 26,
   "metadata": {},
   "outputs": [
    {
     "name": "stdout",
     "output_type": "stream",
     "text": [
      "Records of failure landing outcomes on drone ship in 2015:\n",
      "Month: January, Booster Version: Failure (drone ship), Launch Site: F9 v1.1 B1012\n",
      "Month: April, Booster Version: Failure (drone ship), Launch Site: F9 v1.1 B1015\n"
     ]
    }
   ],
   "source": [
    "import sqlite3\n",
    "\n",
    "# Connect to your SQLite database\n",
    "conn = sqlite3.connect('my_data1.db')  # Ensure this points to your actual database file\n",
    "cursor = conn.cursor()\n",
    "\n",
    "# Execute the SQL query to get records with failure outcomes on drone ship in 2015, along with month names\n",
    "cursor.execute('''\n",
    "SELECT \n",
    "    CASE \n",
    "        WHEN substr(\"Date\", 6, 2) = '01' THEN 'January'\n",
    "        WHEN substr(\"Date\", 6, 2) = '02' THEN 'February'\n",
    "        WHEN substr(\"Date\", 6, 2) = '03' THEN 'March'\n",
    "        WHEN substr(\"Date\", 6, 2) = '04' THEN 'April'\n",
    "        WHEN substr(\"Date\", 6, 2) = '05' THEN 'May'\n",
    "        WHEN substr(\"Date\", 6, 2) = '06' THEN 'June'\n",
    "        WHEN substr(\"Date\", 6, 2) = '07' THEN 'July'\n",
    "        WHEN substr(\"Date\", 6, 2) = '08' THEN 'August'\n",
    "        WHEN substr(\"Date\", 6, 2) = '09' THEN 'September'\n",
    "        WHEN substr(\"Date\", 6, 2) = '10' THEN 'October'\n",
    "        WHEN substr(\"Date\", 6, 2) = '11' THEN 'November'\n",
    "        WHEN substr(\"Date\", 6, 2) = '12' THEN 'December'\n",
    "    END AS \"Month\",\n",
    "    \"Landing_Outcome\", \n",
    "    \"Booster_Version\", \n",
    "    \"Launch_Site\"\n",
    "FROM SPACEXTABLE\n",
    "WHERE substr(\"Date\", 0, 5) = '2015' \n",
    "  AND \"Landing_Outcome\" = 'Failure (drone ship)';\n",
    "''')\n",
    "\n",
    "# Fetch the results\n",
    "records = cursor.fetchall()\n",
    "\n",
    "# Display the records\n",
    "print(\"Records of failure landing outcomes on drone ship in 2015:\")\n",
    "for record in records:\n",
    "    print(f\"Month: {record[0]}, Booster Version: {record[1]}, Launch Site: {record[2]}\")\n",
    "\n",
    "# Close the connection\n",
    "conn.close()\n"
   ]
  },
  {
   "cell_type": "markdown",
   "metadata": {},
   "source": [
    "### Task 10\n",
    "\n",
    "\n",
    "\n",
    "\n",
    "##### Rank the count of landing outcomes (such as Failure (drone ship) or Success (ground pad)) between the date 2010-06-04 and 2017-03-20, in descending order.\n"
   ]
  },
  {
   "cell_type": "code",
   "execution_count": 27,
   "metadata": {},
   "outputs": [
    {
     "name": "stdout",
     "output_type": "stream",
     "text": [
      "Ranked landing outcomes between 2010-06-04 and 2017-03-20:\n",
      "No attempt: 10 occurrences\n",
      "Success (drone ship): 5 occurrences\n",
      "Failure (drone ship): 5 occurrences\n",
      "Success (ground pad): 3 occurrences\n",
      "Controlled (ocean): 3 occurrences\n",
      "Uncontrolled (ocean): 2 occurrences\n",
      "Failure (parachute): 2 occurrences\n",
      "Precluded (drone ship): 1 occurrences\n"
     ]
    }
   ],
   "source": [
    "import sqlite3\n",
    "\n",
    "# Connect to your SQLite database\n",
    "conn = sqlite3.connect('my_data1.db')  # Ensure this points to your actual database file\n",
    "cursor = conn.cursor()\n",
    "\n",
    "# Execute the SQL query to rank landing outcomes by count between the specified dates\n",
    "cursor.execute('''\n",
    "SELECT \"Landing_Outcome\", COUNT(*) AS total_count\n",
    "FROM SPACEXTABLE\n",
    "WHERE \"Date\" BETWEEN '2010-06-04' AND '2017-03-20'\n",
    "GROUP BY \"Landing_Outcome\"\n",
    "ORDER BY total_count DESC;\n",
    "''')\n",
    "\n",
    "# Fetch the results\n",
    "outcomes = cursor.fetchall()\n",
    "\n",
    "# Display the landing outcomes and their counts\n",
    "print(\"Ranked landing outcomes between 2010-06-04 and 2017-03-20:\")\n",
    "for outcome in outcomes:\n",
    "    print(f\"{outcome[0]}: {outcome[1]} occurrences\")\n",
    "\n",
    "# Close the connection\n",
    "conn.close()\n"
   ]
  },
  {
   "cell_type": "markdown",
   "metadata": {},
   "source": [
    "### Reference Links\n",
    "\n",
    "* <a href =\"https://cf-courses-data.s3.us.cloud-object-storage.appdomain.cloud/IBMDeveloperSkillsNetwork-DB0201EN-SkillsNetwork/labs/Labs_Coursera_V5/labs/Lab%20-%20String%20Patterns%20-%20Sorting%20-%20Grouping/instructional-labs.md.html?origin=www.coursera.org\">Hands-on Lab : String Patterns, Sorting and Grouping</a>  \n",
    "\n",
    "*  <a  href=\"https://cf-courses-data.s3.us.cloud-object-storage.appdomain.cloud/IBMDeveloperSkillsNetwork-DB0201EN-SkillsNetwork/labs/Labs_Coursera_V5/labs/Lab%20-%20Built-in%20functions%20/Hands-on_Lab__Built-in_Functions.md.html?origin=www.coursera.org\">Hands-on Lab: Built-in functions</a>\n",
    "\n",
    "*  <a  href=\"https://cf-courses-data.s3.us.cloud-object-storage.appdomain.cloud/IBMDeveloperSkillsNetwork-DB0201EN-SkillsNetwork/labs/Labs_Coursera_V5/labs/Lab%20-%20Sub-queries%20and%20Nested%20SELECTs%20/instructional-labs.md.html?origin=www.coursera.org\">Hands-on Lab : Sub-queries and Nested SELECT Statements</a>\n",
    "\n",
    "*   <a href=\"https://cf-courses-data.s3.us.cloud-object-storage.appdomain.cloud/IBMDeveloperSkillsNetwork-DB0201EN-SkillsNetwork/labs/Module%205/DB0201EN-Week3-1-3-SQLmagic.ipynb\">Hands-on Tutorial: Accessing Databases with SQL magic</a>\n",
    "\n",
    "*  <a href= \"https://cf-courses-data.s3.us.cloud-object-storage.appdomain.cloud/IBMDeveloperSkillsNetwork-DB0201EN-SkillsNetwork/labs/Module%205/DB0201EN-Week3-1-4-Analyzing.ipynb\">Hands-on Lab: Analyzing a real World Data Set</a>\n",
    "\n",
    "\n"
   ]
  },
  {
   "cell_type": "markdown",
   "metadata": {},
   "source": [
    "## Author(s)\n",
    "\n",
    "<h4> Lakshmi Holla </h4>\n"
   ]
  },
  {
   "cell_type": "markdown",
   "metadata": {},
   "source": [
    "## Other Contributors\n",
    "\n",
    "<h4> Rav Ahuja </h4>\n"
   ]
  },
  {
   "cell_type": "markdown",
   "metadata": {},
   "source": [
    "<!--\n",
    "## Change log\n",
    "| Date | Version | Changed by | Change Description |\n",
    "|------|--------|--------|---------|\n",
    "| 2024-07-10 | 1.1 |Anita Verma | Changed Version|\n",
    "| 2021-07-09 | 0.2 |Lakshmi Holla | Changes made in magic sql|\n",
    "| 2021-05-20 | 0.1 |Lakshmi Holla | Created Initial Version |\n",
    "-->\n"
   ]
  },
  {
   "cell_type": "markdown",
   "metadata": {},
   "source": [
    "## <h3 align=\"center\"> © IBM Corporation 2021. All rights reserved. <h3/>\n"
   ]
  }
 ],
 "metadata": {
  "kernelspec": {
   "display_name": "Python 3 (ipykernel)",
   "language": "python",
   "name": "python3"
  },
  "language_info": {
   "codemirror_mode": {
    "name": "ipython",
    "version": 3
   },
   "file_extension": ".py",
   "mimetype": "text/x-python",
   "name": "python",
   "nbconvert_exporter": "python",
   "pygments_lexer": "ipython3",
   "version": "3.12.8"
  },
  "prev_pub_hash": "18774c8928e6c688c0fbec1a14775f2c11e247049ea3a108a4750dd06f4672bb"
 },
 "nbformat": 4,
 "nbformat_minor": 4
}
