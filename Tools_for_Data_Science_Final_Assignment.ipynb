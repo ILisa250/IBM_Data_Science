{
 "cells": [
  {
   "cell_type": "markdown",
   "id": "bd566438",
   "metadata": {},
   "source": [
    "# Tools for Data Science Final Assignment"
   ]
  },
  {
   "cell_type": "markdown",
   "id": "eb543084",
   "metadata": {},
   "source": [
    "This notebook contains key learnings from the Tools for Data Science course."
   ]
  },
  {
   "cell_type": "markdown",
   "id": "9214c4a7",
   "metadata": {},
   "source": [
    "## Some commonly used languages for Data Science:\n",
    "- Python\n",
    "- R\n",
    "- SQL\n",
    "- Julia\n",
    "- Scala"
   ]
  },
  {
   "cell_type": "markdown",
   "id": "08433b57",
   "metadata": {},
   "source": [
    "## Popular Data Science Libraries:\n",
    "- Pandas\n",
    "- NumPy\n",
    "- Matplotlib\n",
    "- Scikit-learn\n",
    "- TensorFlow"
   ]
  },
  {
   "cell_type": "markdown",
   "id": "f9033cbb",
   "metadata": {},
   "source": [
    "## Table of Data Science Tools:\n",
    "| Category        | Tool              |\n",
    "|----------------|-------------------|\n",
    "| IDE            | Jupyter Notebook  |\n",
    "| Data Cleaning  | OpenRefine        |\n",
    "| Big Data       | Apache Hadoop     |\n",
    "| Visualization  | Tableau           |"
   ]
  },
  {
   "cell_type": "markdown",
   "id": "984c28f9",
   "metadata": {},
   "source": [
    "## Examples of simple arithmetic expressions:\n",
    "(3 * 4) + 5"
   ]
  },
  {
   "cell_type": "code",
   "execution_count": null,
   "id": "690b220b",
   "metadata": {},
   "outputs": [],
   "source": [
    "(3 * 4) + 5"
   ]
  },
  {
   "cell_type": "code",
   "execution_count": null,
   "id": "2be3787d",
   "metadata": {},
   "outputs": [],
   "source": [
    "150 / 60"
   ]
  },
  {
   "cell_type": "markdown",
   "id": "2332238d",
   "metadata": {},
   "source": [
    "## Objectives:\n",
    "- List popular languages used in Data Science\n",
    "- List commonly used libraries\n",
    "- Perform basic arithmetic operations\n",
    "- Create and format Markdown cells"
   ]
  },
  {
   "cell_type": "markdown",
   "id": "95540704",
   "metadata": {},
   "source": [
    "**Author:** Siddharth Nadupalli"
   ]
  }
 ],
 "metadata": {},
 "nbformat": 4,
 "nbformat_minor": 5
}
